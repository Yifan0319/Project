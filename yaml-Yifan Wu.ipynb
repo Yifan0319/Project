{
 "cells": [
  {
   "cell_type": "code",
   "execution_count": 135,
   "id": "dc6dd4dc",
   "metadata": {},
   "outputs": [],
   "source": [
    "import yaml\n",
    "import numpy as np"
   ]
  },
  {
   "cell_type": "code",
   "execution_count": 136,
   "id": "f36d9ee4",
   "metadata": {},
   "outputs": [
    {
     "name": "stdout",
     "output_type": "stream",
     "text": [
      "{'data': {'load': {'repository': '/home/stefan/STORAGE/Projects2023/', 'events': 'ALL'}, 'save': {'filename': 'test.npy'}}, 'filter': {'start': 24, 'end': 25, 'n_stations': 2}}\n"
     ]
    }
   ],
   "source": [
    "with open('/Users/wuyifan/Desktop/example.yaml', 'r') as file:\n",
    "    yaml_content = yaml.safe_load(file)\n",
    "print(yaml_content)"
   ]
  },
  {
   "cell_type": "code",
   "execution_count": 137,
   "id": "5043781e",
   "metadata": {},
   "outputs": [],
   "source": [
    "import h5py\n",
    "file_path = \"/Volumes/Projects2023/ev0000364000.h5\""
   ]
  },
  {
   "cell_type": "code",
   "execution_count": 138,
   "id": "4aea9df3",
   "metadata": {},
   "outputs": [
    {
     "data": {
      "text/plain": [
       "<HDF5 file \"ev0000364000.h5\" (mode r)>"
      ]
     },
     "execution_count": 138,
     "metadata": {},
     "output_type": "execute_result"
    }
   ],
   "source": [
    "# Open the file\n",
    "f = h5py.File(file_path, 'r')\n",
    "f"
   ]
  },
  {
   "cell_type": "code",
   "execution_count": 139,
   "id": "0904531f",
   "metadata": {},
   "outputs": [
    {
     "name": "stdout",
     "output_type": "stream",
     "text": [
      "['IWEH', 'KI2H', 'MKJH', 'NMEH']\n"
     ]
    }
   ],
   "source": [
    "stations_list = list(f.keys())\n",
    "print(stations_list)"
   ]
  },
  {
   "cell_type": "code",
   "execution_count": 140,
   "id": "f895fec6",
   "metadata": {},
   "outputs": [
    {
     "name": "stdout",
     "output_type": "stream",
     "text": [
      "IWEH: 120189.0\n",
      "KI2H: 149570.0\n",
      "MKJH: 149240.0\n",
      "NMEH: 128023.0\n",
      "The closest distance is 120189.0, found in station IWEH\n",
      "The shape of extracted data: (8, 4, 3, 360000)\n"
     ]
    }
   ],
   "source": [
    "start = 24 * 3600 * 100\n",
    "end = 25 * 3600 * 100\n",
    "n_stations = len(stations_list)\n",
    "num_channels = 3\n",
    "n_events = 8 \n",
    "\n",
    "min_distance = float(\"inf\")\n",
    "min_station = \"\"\n",
    "for k in f.keys():\n",
    "    stations_distance = np.array(f[k].attrs['dist_m'].split(','), dtype=float)\n",
    "    closest_distance = np.min(stations_distance)\n",
    "    print(f\"{k}: {closest_distance}\")\n",
    "    if closest_distance < min_distance:\n",
    "        min_distance = closest_distance\n",
    "        min_station = k\n",
    "print(f\"The closest distance is {min_distance}, found in station {min_station}\")\n",
    "# Allocate the space to save the extracted data\n",
    "extracted_data = np.empty((n_events, len(stations_list), num_channels, end - start,))\n",
    "\n",
    "#for i in range(len(stations_list)):\n",
    "#    extracted_data[i,0:num_channels,:] = f[stations_list[i]][0:num_channels,start:end]\n",
    "    \n",
    "print(\"The shape of extracted data:\", extracted_data.shape)\n",
    "np.save('exercise.npy', extracted_data)"
   ]
  },
  {
   "cell_type": "code",
   "execution_count": null,
   "id": "ff800fcf",
   "metadata": {},
   "outputs": [],
   "source": []
  },
  {
   "cell_type": "code",
   "execution_count": null,
   "id": "87da2956",
   "metadata": {},
   "outputs": [],
   "source": []
  },
  {
   "cell_type": "code",
   "execution_count": null,
   "id": "ca77be5e",
   "metadata": {},
   "outputs": [],
   "source": []
  }
 ],
 "metadata": {
  "kernelspec": {
   "display_name": "Python 3 (ipykernel)",
   "language": "python",
   "name": "python3"
  },
  "language_info": {
   "codemirror_mode": {
    "name": "ipython",
    "version": 3
   },
   "file_extension": ".py",
   "mimetype": "text/x-python",
   "name": "python",
   "nbconvert_exporter": "python",
   "pygments_lexer": "ipython3",
   "version": "3.9.7"
  }
 },
 "nbformat": 4,
 "nbformat_minor": 5
}
